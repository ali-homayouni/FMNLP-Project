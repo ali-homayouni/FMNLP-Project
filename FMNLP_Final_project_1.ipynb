{
  "cells": [
    {
      "cell_type": "markdown",
      "metadata": {
        "id": "1sC7vclyLA2F"
      },
      "source": [
        "# Initializing"
      ]
    },
    {
      "cell_type": "code",
      "execution_count": null,
      "metadata": {
        "id": "A-dvDjY8LRAF"
      },
      "outputs": [],
      "source": [
        "from IPython.display import Javascript\n",
        "def resize_colab_cell():\n",
        "  display(Javascript('google.colab.output.setIframeHeight(0, true, {maxHeight: 300})'))\n",
        "get_ipython().events.register('pre_run_cell', resize_colab_cell)\n",
        "\n"
      ]
    },
    {
      "cell_type": "code",
      "execution_count": null,
      "metadata": {
        "colab": {
          "base_uri": "https://localhost:8080/"
        },
        "id": "3AB1sHwEU9Oe",
        "outputId": "8b1b4ffe-2203-45f9-854c-28f6bc259afb"
      },
      "outputs": [
        {
          "output_type": "display_data",
          "data": {
            "text/plain": [
              "<IPython.core.display.Javascript object>"
            ],
            "application/javascript": [
              "google.colab.output.setIframeHeight(0, true, {maxHeight: 300})"
            ]
          },
          "metadata": {}
        },
        {
          "output_type": "stream",
          "name": "stdout",
          "text": [
            "Drive already mounted at /content/drive; to attempt to forcibly remount, call drive.mount(\"/content/drive\", force_remount=True).\n",
            "Looking in indexes: https://pypi.org/simple, https://us-python.pkg.dev/colab-wheels/public/simple/\n",
            "Requirement already satisfied: transformers in /usr/local/lib/python3.8/dist-packages (4.26.1)\n",
            "Requirement already satisfied: huggingface-hub<1.0,>=0.11.0 in /usr/local/lib/python3.8/dist-packages (from transformers) (0.12.0)\n",
            "Requirement already satisfied: tokenizers!=0.11.3,<0.14,>=0.11.1 in /usr/local/lib/python3.8/dist-packages (from transformers) (0.13.2)\n",
            "Requirement already satisfied: requests in /usr/local/lib/python3.8/dist-packages (from transformers) (2.25.1)\n",
            "Requirement already satisfied: numpy>=1.17 in /usr/local/lib/python3.8/dist-packages (from transformers) (1.21.6)\n",
            "Requirement already satisfied: packaging>=20.0 in /usr/local/lib/python3.8/dist-packages (from transformers) (23.0)\n",
            "Requirement already satisfied: tqdm>=4.27 in /usr/local/lib/python3.8/dist-packages (from transformers) (4.64.1)\n",
            "Requirement already satisfied: filelock in /usr/local/lib/python3.8/dist-packages (from transformers) (3.9.0)\n",
            "Requirement already satisfied: pyyaml>=5.1 in /usr/local/lib/python3.8/dist-packages (from transformers) (6.0)\n",
            "Requirement already satisfied: regex!=2019.12.17 in /usr/local/lib/python3.8/dist-packages (from transformers) (2022.6.2)\n",
            "Requirement already satisfied: typing-extensions>=3.7.4.3 in /usr/local/lib/python3.8/dist-packages (from huggingface-hub<1.0,>=0.11.0->transformers) (4.4.0)\n",
            "Requirement already satisfied: urllib3<1.27,>=1.21.1 in /usr/local/lib/python3.8/dist-packages (from requests->transformers) (1.24.3)\n",
            "Requirement already satisfied: idna<3,>=2.5 in /usr/local/lib/python3.8/dist-packages (from requests->transformers) (2.10)\n",
            "Requirement already satisfied: chardet<5,>=3.0.2 in /usr/local/lib/python3.8/dist-packages (from requests->transformers) (4.0.0)\n",
            "Requirement already satisfied: certifi>=2017.4.17 in /usr/local/lib/python3.8/dist-packages (from requests->transformers) (2022.12.7)\n",
            "Looking in indexes: https://pypi.org/simple, https://us-python.pkg.dev/colab-wheels/public/simple/\n",
            "Requirement already satisfied: hazm in /usr/local/lib/python3.8/dist-packages (0.7.0)\n",
            "Requirement already satisfied: libwapiti>=0.2.1 in /usr/local/lib/python3.8/dist-packages (from hazm) (0.2.1)\n",
            "Requirement already satisfied: nltk==3.3 in /usr/local/lib/python3.8/dist-packages (from hazm) (3.3)\n",
            "Requirement already satisfied: six in /usr/local/lib/python3.8/dist-packages (from nltk==3.3->hazm) (1.15.0)\n",
            "Looking in indexes: https://pypi.org/simple, https://us-python.pkg.dev/colab-wheels/public/simple/\n",
            "Requirement already satisfied: sentencepiece in /usr/local/lib/python3.8/dist-packages (0.1.97)\n",
            "Looking in indexes: https://pypi.org/simple, https://us-python.pkg.dev/colab-wheels/public/simple/\n",
            "Requirement already satisfied: emoji in /usr/local/lib/python3.8/dist-packages (2.2.0)\n"
          ]
        }
      ],
      "source": [
        "from google.colab import drive\n",
        "drive.mount('/content/drive')\n",
        "!pip install transformers\n",
        "!pip install -U -q PyDrive\n",
        "!pip install hazm\n",
        "!pip install sentencepiece\n",
        "!pip install emoji"
      ]
    },
    {
      "cell_type": "code",
      "execution_count": null,
      "metadata": {
        "colab": {
          "base_uri": "https://localhost:8080/"
        },
        "id": "edOh9ooiIW1B",
        "outputId": "fbd0b20c-e3bb-4628-a696-7f25d377873d"
      },
      "outputs": [
        {
          "output_type": "display_data",
          "data": {
            "text/plain": [
              "<IPython.core.display.Javascript object>"
            ],
            "application/javascript": [
              "google.colab.output.setIframeHeight(0, true, {maxHeight: 300})"
            ]
          },
          "metadata": {}
        },
        {
          "output_type": "stream",
          "name": "stdout",
          "text": [
            "Found device: Tesla T4, n_gpu: 1\n",
            "1.13.1+cu116\n"
          ]
        }
      ],
      "source": [
        "import torch\n",
        "assert torch.cuda.is_available()\n",
        "import os\n",
        "import zipfile\n",
        "import pandas as pd\n",
        "import random\n",
        "from transformers import BertForSequenceClassification, AdamW, BertConfig, RobertaForSequenceClassification\n",
        "from torch.utils.data import TensorDataset, random_split\n",
        "from transformers import BertTokenizer, XLMRobertaTokenizer\n",
        "from transformers import AutoTokenizer, AutoModelForMaskedLM, AutoModel\n",
        "# from torch.utils.data import DataLoader, RandomSampler, SequentialSampler\n",
        "from sklearn.metrics import confusion_matrix, ConfusionMatrixDisplay\n",
        "import sys\n",
        "import numpy as np\n",
        "import gc\n",
        "import time\n",
        "import datetime\n",
        "import matplotlib.pyplot as plt\n",
        "from hazm import word_tokenize\n",
        "from transformers import BertForSequenceClassification, AdamW, BertConfig\n",
        "from sklearn.metrics import classification_report\n",
        "\n",
        "# Get the GPU device name.\n",
        "device_name = torch.cuda.get_device_name()\n",
        "n_gpu = torch.cuda.device_count()\n",
        "print(f\"Found device: {device_name}, n_gpu: {n_gpu}\")\n",
        "device = torch.device(\"cuda\")\n",
        "print(torch.__version__)"
      ]
    },
    {
      "cell_type": "markdown",
      "source": [
        "# Phase 1"
      ],
      "metadata": {
        "id": "5sa7-V5Ncplw"
      }
    },
    {
      "cell_type": "markdown",
      "metadata": {
        "id": "DyuCu2y9lmBM"
      },
      "source": [
        "## Pre-process"
      ]
    },
    {
      "cell_type": "code",
      "source": [
        "import emoji\n",
        "import re\n",
        "\n",
        "not_punctuation = '[^ضصثقفغعهخحجچپشسیبلاتنمکگظطزرذدئوۀآةيژؤإأء]+'\n",
        "\n",
        "def emoji2word(tw):\n",
        "    return emoji.demojize(tw)\n",
        "\n",
        "def remove_links(tw):\n",
        "    return re.sub(r'^https?:\\/\\/.*[\\r\\n]*', 'http', tw, flags=re.MULTILINE)\n",
        "\n",
        "def remove_eng(tw):\n",
        "    return re.sub('[a-zA-Z]','',tw)\n",
        "\n",
        "def keep_fa(tw):\n",
        "  return re.sub(not_punctuation, \" \", tw)\n",
        "\n",
        "def text_cleaner(tw):\n",
        "  try:\n",
        "    data = remove_links(str(tw))\n",
        "    data = emoji2word(data)\n",
        "    data = keep_fa(data)\n",
        "    return data\n",
        "  except:\n",
        "    print('errrrrr',tw)\n",
        "\n"
      ],
      "metadata": {
        "colab": {
          "base_uri": "https://localhost:8080/",
          "height": 17
        },
        "id": "5ae7TlvUDtAr",
        "outputId": "274ce5ac-ecf4-4437-d00e-9437453dfedc"
      },
      "execution_count": null,
      "outputs": [
        {
          "output_type": "display_data",
          "data": {
            "text/plain": [
              "<IPython.core.display.Javascript object>"
            ],
            "application/javascript": [
              "google.colab.output.setIframeHeight(0, true, {maxHeight: 300})"
            ]
          },
          "metadata": {}
        }
      ]
    },
    {
      "cell_type": "code",
      "execution_count": null,
      "metadata": {
        "colab": {
          "base_uri": "https://localhost:8080/",
          "height": 17
        },
        "id": "3gh6oaovk0V3",
        "outputId": "428ef6a3-05f8-41a4-8008-634f6106eb37"
      },
      "outputs": [
        {
          "output_type": "display_data",
          "data": {
            "text/plain": [
              "<IPython.core.display.Javascript object>"
            ],
            "application/javascript": [
              "google.colab.output.setIframeHeight(0, true, {maxHeight: 300})"
            ]
          },
          "metadata": {}
        }
      ],
      "source": [
        "df = pd.read_excel('/content/drive/MyDrive/tweetAll20.xlsx')\n",
        "# df = df.loc[df['judged'] == 1]\n",
        "df = df.sample(frac=1).reset_index(drop=True)\n",
        "df['label'] = df['label'].apply(lambda x: str(x).strip())\n",
        "df['tweet'] = df['tweet'].apply(lambda x: str(x))\n",
        "# df['tweet'] = df['tweet'].apply(lambda x: text_cleaner(x))\n",
        "# df = df.head(2000)"
      ]
    },
    {
      "cell_type": "code",
      "source": [
        "df['label'] = df['label'].apply(lambda x: 0 if x == '0- NO' else 1 if x == '1- Offensive' else 2)\n",
        "df0 = df.loc[df['label'] == 0]#.sample(n = 3025)\n",
        "df1 = df.loc[df['label'] == 1]#.sample(n = 3025)\n",
        "df2 = df.loc[df['label'] == 2]\n",
        "df = pd.concat([df0,df1,df2]).reset_index(drop=True)\n",
        "df.groupby(['label'])['label'].count().reset_index(name='counts')"
      ],
      "metadata": {
        "colab": {
          "base_uri": "https://localhost:8080/",
          "height": 143
        },
        "id": "rXX98FCGsi-3",
        "outputId": "afff7079-4d93-4c97-e2fb-957a5885ca2f"
      },
      "execution_count": null,
      "outputs": [
        {
          "output_type": "display_data",
          "data": {
            "text/plain": [
              "<IPython.core.display.Javascript object>"
            ],
            "application/javascript": [
              "google.colab.output.setIframeHeight(0, true, {maxHeight: 300})"
            ]
          },
          "metadata": {}
        },
        {
          "output_type": "execute_result",
          "data": {
            "text/plain": [
              "   label  counts\n",
              "0      0   38630\n",
              "1      1   16349\n",
              "2      2    3025"
            ],
            "text/html": [
              "\n",
              "  <div id=\"df-e1c6dafb-14b5-4841-b8b9-d0625ae79135\">\n",
              "    <div class=\"colab-df-container\">\n",
              "      <div>\n",
              "<style scoped>\n",
              "    .dataframe tbody tr th:only-of-type {\n",
              "        vertical-align: middle;\n",
              "    }\n",
              "\n",
              "    .dataframe tbody tr th {\n",
              "        vertical-align: top;\n",
              "    }\n",
              "\n",
              "    .dataframe thead th {\n",
              "        text-align: right;\n",
              "    }\n",
              "</style>\n",
              "<table border=\"1\" class=\"dataframe\">\n",
              "  <thead>\n",
              "    <tr style=\"text-align: right;\">\n",
              "      <th></th>\n",
              "      <th>label</th>\n",
              "      <th>counts</th>\n",
              "    </tr>\n",
              "  </thead>\n",
              "  <tbody>\n",
              "    <tr>\n",
              "      <th>0</th>\n",
              "      <td>0</td>\n",
              "      <td>38630</td>\n",
              "    </tr>\n",
              "    <tr>\n",
              "      <th>1</th>\n",
              "      <td>1</td>\n",
              "      <td>16349</td>\n",
              "    </tr>\n",
              "    <tr>\n",
              "      <th>2</th>\n",
              "      <td>2</td>\n",
              "      <td>3025</td>\n",
              "    </tr>\n",
              "  </tbody>\n",
              "</table>\n",
              "</div>\n",
              "      <button class=\"colab-df-convert\" onclick=\"convertToInteractive('df-e1c6dafb-14b5-4841-b8b9-d0625ae79135')\"\n",
              "              title=\"Convert this dataframe to an interactive table.\"\n",
              "              style=\"display:none;\">\n",
              "        \n",
              "  <svg xmlns=\"http://www.w3.org/2000/svg\" height=\"24px\"viewBox=\"0 0 24 24\"\n",
              "       width=\"24px\">\n",
              "    <path d=\"M0 0h24v24H0V0z\" fill=\"none\"/>\n",
              "    <path d=\"M18.56 5.44l.94 2.06.94-2.06 2.06-.94-2.06-.94-.94-2.06-.94 2.06-2.06.94zm-11 1L8.5 8.5l.94-2.06 2.06-.94-2.06-.94L8.5 2.5l-.94 2.06-2.06.94zm10 10l.94 2.06.94-2.06 2.06-.94-2.06-.94-.94-2.06-.94 2.06-2.06.94z\"/><path d=\"M17.41 7.96l-1.37-1.37c-.4-.4-.92-.59-1.43-.59-.52 0-1.04.2-1.43.59L10.3 9.45l-7.72 7.72c-.78.78-.78 2.05 0 2.83L4 21.41c.39.39.9.59 1.41.59.51 0 1.02-.2 1.41-.59l7.78-7.78 2.81-2.81c.8-.78.8-2.07 0-2.86zM5.41 20L4 18.59l7.72-7.72 1.47 1.35L5.41 20z\"/>\n",
              "  </svg>\n",
              "      </button>\n",
              "      \n",
              "  <style>\n",
              "    .colab-df-container {\n",
              "      display:flex;\n",
              "      flex-wrap:wrap;\n",
              "      gap: 12px;\n",
              "    }\n",
              "\n",
              "    .colab-df-convert {\n",
              "      background-color: #E8F0FE;\n",
              "      border: none;\n",
              "      border-radius: 50%;\n",
              "      cursor: pointer;\n",
              "      display: none;\n",
              "      fill: #1967D2;\n",
              "      height: 32px;\n",
              "      padding: 0 0 0 0;\n",
              "      width: 32px;\n",
              "    }\n",
              "\n",
              "    .colab-df-convert:hover {\n",
              "      background-color: #E2EBFA;\n",
              "      box-shadow: 0px 1px 2px rgba(60, 64, 67, 0.3), 0px 1px 3px 1px rgba(60, 64, 67, 0.15);\n",
              "      fill: #174EA6;\n",
              "    }\n",
              "\n",
              "    [theme=dark] .colab-df-convert {\n",
              "      background-color: #3B4455;\n",
              "      fill: #D2E3FC;\n",
              "    }\n",
              "\n",
              "    [theme=dark] .colab-df-convert:hover {\n",
              "      background-color: #434B5C;\n",
              "      box-shadow: 0px 1px 3px 1px rgba(0, 0, 0, 0.15);\n",
              "      filter: drop-shadow(0px 1px 2px rgba(0, 0, 0, 0.3));\n",
              "      fill: #FFFFFF;\n",
              "    }\n",
              "  </style>\n",
              "\n",
              "      <script>\n",
              "        const buttonEl =\n",
              "          document.querySelector('#df-e1c6dafb-14b5-4841-b8b9-d0625ae79135 button.colab-df-convert');\n",
              "        buttonEl.style.display =\n",
              "          google.colab.kernel.accessAllowed ? 'block' : 'none';\n",
              "\n",
              "        async function convertToInteractive(key) {\n",
              "          const element = document.querySelector('#df-e1c6dafb-14b5-4841-b8b9-d0625ae79135');\n",
              "          const dataTable =\n",
              "            await google.colab.kernel.invokeFunction('convertToInteractive',\n",
              "                                                     [key], {});\n",
              "          if (!dataTable) return;\n",
              "\n",
              "          const docLinkHtml = 'Like what you see? Visit the ' +\n",
              "            '<a target=\"_blank\" href=https://colab.research.google.com/notebooks/data_table.ipynb>data table notebook</a>'\n",
              "            + ' to learn more about interactive tables.';\n",
              "          element.innerHTML = '';\n",
              "          dataTable['output_type'] = 'display_data';\n",
              "          await google.colab.output.renderOutput(dataTable, element);\n",
              "          const docLink = document.createElement('div');\n",
              "          docLink.innerHTML = docLinkHtml;\n",
              "          element.appendChild(docLink);\n",
              "        }\n",
              "      </script>\n",
              "    </div>\n",
              "  </div>\n",
              "  "
            ]
          },
          "metadata": {},
          "execution_count": 19
        }
      ]
    },
    {
      "cell_type": "code",
      "source": [
        "# df"
      ],
      "metadata": {
        "id": "Zh2gD8Acw89s",
        "colab": {
          "base_uri": "https://localhost:8080/",
          "height": 17
        },
        "outputId": "2ed07ed3-9b5a-4d63-cc3f-36ee35e2d31e"
      },
      "execution_count": null,
      "outputs": [
        {
          "output_type": "display_data",
          "data": {
            "text/plain": [
              "<IPython.core.display.Javascript object>"
            ],
            "application/javascript": [
              "google.colab.output.setIframeHeight(0, true, {maxHeight: 300})"
            ]
          },
          "metadata": {}
        }
      ]
    },
    {
      "cell_type": "code",
      "execution_count": null,
      "metadata": {
        "colab": {
          "base_uri": "https://localhost:8080/",
          "height": 17
        },
        "id": "T8hFjCA7mJY_",
        "outputId": "eb557e25-440b-40eb-b65a-5de61e531ce5"
      },
      "outputs": [
        {
          "output_type": "display_data",
          "data": {
            "text/plain": [
              "<IPython.core.display.Javascript object>"
            ],
            "application/javascript": [
              "google.colab.output.setIframeHeight(0, true, {maxHeight: 300})"
            ]
          },
          "metadata": {}
        }
      ],
      "source": [
        "df['tweet_tkn'] = df['tweet'].apply(lambda x: word_tokenize(x))\n",
        "df['tweet_tkn_len'] = df['tweet_tkn'].apply(lambda x: len(x))\n",
        "df['status'] = 'train'"
      ]
    },
    {
      "cell_type": "code",
      "execution_count": null,
      "metadata": {
        "colab": {
          "base_uri": "https://localhost:8080/",
          "height": 17
        },
        "id": "YB2TXfW1ZKYg",
        "outputId": "8edcff53-bc69-417e-9163-d9d3d11dc62a"
      },
      "outputs": [
        {
          "output_type": "display_data",
          "data": {
            "text/plain": [
              "<IPython.core.display.Javascript object>"
            ],
            "application/javascript": [
              "google.colab.output.setIframeHeight(0, true, {maxHeight: 300})"
            ]
          },
          "metadata": {}
        }
      ],
      "source": [
        "numbers = df.loc[df['judged'] == 1].groupby(['label'])['label'].count().reset_index(name='counts')\n",
        "for i, row in numbers.iterrows():\n",
        "  ten_percent = row['counts'] // 100 * 1\n",
        "  tmp = df[(df['label'] == row['label']) & (df['judged'] == 1)].sample(n = ten_percent)\n",
        "  df.at[tmp.index, 'status'] = 'test'"
      ]
    },
    {
      "cell_type": "code",
      "execution_count": null,
      "metadata": {
        "colab": {
          "base_uri": "https://localhost:8080/",
          "height": 112
        },
        "id": "I78G2TuRlPN8",
        "outputId": "72215e50-2c80-4f5e-cdc1-814abc97162f"
      },
      "outputs": [
        {
          "output_type": "display_data",
          "data": {
            "text/plain": [
              "<IPython.core.display.Javascript object>"
            ],
            "application/javascript": [
              "google.colab.output.setIframeHeight(0, true, {maxHeight: 300})"
            ]
          },
          "metadata": {}
        },
        {
          "output_type": "execute_result",
          "data": {
            "text/plain": [
              "  status  counts\n",
              "0   test     379\n",
              "1  train   57625"
            ],
            "text/html": [
              "\n",
              "  <div id=\"df-1447fa51-2da7-497d-8bf1-e85e50a2cc9e\">\n",
              "    <div class=\"colab-df-container\">\n",
              "      <div>\n",
              "<style scoped>\n",
              "    .dataframe tbody tr th:only-of-type {\n",
              "        vertical-align: middle;\n",
              "    }\n",
              "\n",
              "    .dataframe tbody tr th {\n",
              "        vertical-align: top;\n",
              "    }\n",
              "\n",
              "    .dataframe thead th {\n",
              "        text-align: right;\n",
              "    }\n",
              "</style>\n",
              "<table border=\"1\" class=\"dataframe\">\n",
              "  <thead>\n",
              "    <tr style=\"text-align: right;\">\n",
              "      <th></th>\n",
              "      <th>status</th>\n",
              "      <th>counts</th>\n",
              "    </tr>\n",
              "  </thead>\n",
              "  <tbody>\n",
              "    <tr>\n",
              "      <th>0</th>\n",
              "      <td>test</td>\n",
              "      <td>379</td>\n",
              "    </tr>\n",
              "    <tr>\n",
              "      <th>1</th>\n",
              "      <td>train</td>\n",
              "      <td>57625</td>\n",
              "    </tr>\n",
              "  </tbody>\n",
              "</table>\n",
              "</div>\n",
              "      <button class=\"colab-df-convert\" onclick=\"convertToInteractive('df-1447fa51-2da7-497d-8bf1-e85e50a2cc9e')\"\n",
              "              title=\"Convert this dataframe to an interactive table.\"\n",
              "              style=\"display:none;\">\n",
              "        \n",
              "  <svg xmlns=\"http://www.w3.org/2000/svg\" height=\"24px\"viewBox=\"0 0 24 24\"\n",
              "       width=\"24px\">\n",
              "    <path d=\"M0 0h24v24H0V0z\" fill=\"none\"/>\n",
              "    <path d=\"M18.56 5.44l.94 2.06.94-2.06 2.06-.94-2.06-.94-.94-2.06-.94 2.06-2.06.94zm-11 1L8.5 8.5l.94-2.06 2.06-.94-2.06-.94L8.5 2.5l-.94 2.06-2.06.94zm10 10l.94 2.06.94-2.06 2.06-.94-2.06-.94-.94-2.06-.94 2.06-2.06.94z\"/><path d=\"M17.41 7.96l-1.37-1.37c-.4-.4-.92-.59-1.43-.59-.52 0-1.04.2-1.43.59L10.3 9.45l-7.72 7.72c-.78.78-.78 2.05 0 2.83L4 21.41c.39.39.9.59 1.41.59.51 0 1.02-.2 1.41-.59l7.78-7.78 2.81-2.81c.8-.78.8-2.07 0-2.86zM5.41 20L4 18.59l7.72-7.72 1.47 1.35L5.41 20z\"/>\n",
              "  </svg>\n",
              "      </button>\n",
              "      \n",
              "  <style>\n",
              "    .colab-df-container {\n",
              "      display:flex;\n",
              "      flex-wrap:wrap;\n",
              "      gap: 12px;\n",
              "    }\n",
              "\n",
              "    .colab-df-convert {\n",
              "      background-color: #E8F0FE;\n",
              "      border: none;\n",
              "      border-radius: 50%;\n",
              "      cursor: pointer;\n",
              "      display: none;\n",
              "      fill: #1967D2;\n",
              "      height: 32px;\n",
              "      padding: 0 0 0 0;\n",
              "      width: 32px;\n",
              "    }\n",
              "\n",
              "    .colab-df-convert:hover {\n",
              "      background-color: #E2EBFA;\n",
              "      box-shadow: 0px 1px 2px rgba(60, 64, 67, 0.3), 0px 1px 3px 1px rgba(60, 64, 67, 0.15);\n",
              "      fill: #174EA6;\n",
              "    }\n",
              "\n",
              "    [theme=dark] .colab-df-convert {\n",
              "      background-color: #3B4455;\n",
              "      fill: #D2E3FC;\n",
              "    }\n",
              "\n",
              "    [theme=dark] .colab-df-convert:hover {\n",
              "      background-color: #434B5C;\n",
              "      box-shadow: 0px 1px 3px 1px rgba(0, 0, 0, 0.15);\n",
              "      filter: drop-shadow(0px 1px 2px rgba(0, 0, 0, 0.3));\n",
              "      fill: #FFFFFF;\n",
              "    }\n",
              "  </style>\n",
              "\n",
              "      <script>\n",
              "        const buttonEl =\n",
              "          document.querySelector('#df-1447fa51-2da7-497d-8bf1-e85e50a2cc9e button.colab-df-convert');\n",
              "        buttonEl.style.display =\n",
              "          google.colab.kernel.accessAllowed ? 'block' : 'none';\n",
              "\n",
              "        async function convertToInteractive(key) {\n",
              "          const element = document.querySelector('#df-1447fa51-2da7-497d-8bf1-e85e50a2cc9e');\n",
              "          const dataTable =\n",
              "            await google.colab.kernel.invokeFunction('convertToInteractive',\n",
              "                                                     [key], {});\n",
              "          if (!dataTable) return;\n",
              "\n",
              "          const docLinkHtml = 'Like what you see? Visit the ' +\n",
              "            '<a target=\"_blank\" href=https://colab.research.google.com/notebooks/data_table.ipynb>data table notebook</a>'\n",
              "            + ' to learn more about interactive tables.';\n",
              "          element.innerHTML = '';\n",
              "          dataTable['output_type'] = 'display_data';\n",
              "          await google.colab.output.renderOutput(dataTable, element);\n",
              "          const docLink = document.createElement('div');\n",
              "          docLink.innerHTML = docLinkHtml;\n",
              "          element.appendChild(docLink);\n",
              "        }\n",
              "      </script>\n",
              "    </div>\n",
              "  </div>\n",
              "  "
            ]
          },
          "metadata": {},
          "execution_count": 23
        }
      ],
      "source": [
        "df.groupby(['status'])['status'].count().reset_index(name='counts')"
      ]
    },
    {
      "cell_type": "code",
      "execution_count": null,
      "metadata": {
        "colab": {
          "base_uri": "https://localhost:8080/",
          "height": 300
        },
        "id": "A54flYZqngh0",
        "outputId": "b059778a-f9ca-4397-fec4-540de7551e8e"
      },
      "outputs": [
        {
          "output_type": "display_data",
          "data": {
            "text/plain": [
              "<IPython.core.display.Javascript object>"
            ],
            "application/javascript": [
              "google.colab.output.setIframeHeight(0, true, {maxHeight: 300})"
            ]
          },
          "metadata": {}
        },
        {
          "output_type": "display_data",
          "data": {
            "text/plain": [
              "<Figure size 432x432 with 1 Axes>"
            ],
            "image/png": "[encoded data removed]"
          },
          "metadata": {}
        }
      ],
      "source": [
        "df2 = df.groupby(['tweet_tkn_len'])['tweet_tkn_len'].count().reset_index(name='counts')\n",
        "\n",
        "plt.style.use('seaborn')\n",
        "plt.figure(figsize = (6, 6))\n",
        "plt.plot(df2['tweet_tkn_len'], df2['counts'], color = 'black', linestyle = 'dashed')\n",
        "  \n",
        "plt.scatter(df2['tweet_tkn_len'], df2['counts'], marker = 'o', s = 25, color = 'red')\n",
        "plt.show()"
      ]
    },
    {
      "cell_type": "markdown",
      "metadata": {
        "id": "WSkf89TtlqtS"
      },
      "source": [
        "## pre-fine-tune"
      ]
    },
    {
      "cell_type": "code",
      "execution_count": null,
      "metadata": {
        "id": "Taseb33Sovg0",
        "colab": {
          "base_uri": "https://localhost:8080/",
          "height": 17
        },
        "outputId": "d5900eab-966d-4fba-ffa4-f754911bb633"
      },
      "outputs": [
        {
          "output_type": "display_data",
          "data": {
            "text/plain": [
              "<IPython.core.display.Javascript object>"
            ],
            "application/javascript": [
              "google.colab.output.setIframeHeight(0, true, {maxHeight: 300})"
            ]
          },
          "metadata": {}
        }
      ],
      "source": [
        "def tokenize_and_format(sentences, model):\n",
        "  if model in ['bert-base-multilingual-cased', 'HooshvareLab/bert-base-parsbert-uncased', 'arm-on/BERTweet-FA']:\n",
        "    tokenizer = BertTokenizer.from_pretrained(model, do_lower_case=True)\n",
        "\n",
        "  elif model == 'xlm-roberta-base':\n",
        "    tokenizer = XLMRobertaTokenizer.from_pretrained('xlm-roberta-base')\n",
        "\n",
        "\n",
        "  # Tokenize all of the sentences and map the tokens to thier word IDs.\n",
        "  input_ids = []\n",
        "  attention_masks = []\n",
        "\n",
        "  # For every sentence...\n",
        "  for sentence in sentences:\n",
        "      # `encode_plus` will:\n",
        "      #   (1) Tokenize the sentence.\n",
        "      #   (2) Prepend the `[CLS]` token to the start.\n",
        "      #   (3) Append the `[SEP]` token to the end.\n",
        "      #   (4) Map tokens to their IDs.\n",
        "      #   (5) Pad or truncate the sentence to `max_length`\n",
        "      #   (6) Create attention masks for [PAD] tokens.\n",
        "      encoded_dict = tokenizer.encode_plus(\n",
        "                          sentence,                      # Sentence to encode.\n",
        "                          add_special_tokens = True, # Add '[CLS]' and '[SEP]'\n",
        "                          max_length = 64,           # Pad & truncate all sentences.\n",
        "                          padding = 'max_length',\n",
        "                          truncation = True,\n",
        "                          return_attention_mask = True,   # Construct attn. masks.\n",
        "                          return_tensors = 'pt',     # Return pytorch tensors.\n",
        "                    )\n",
        "\n",
        "      # Add the encoded sentence to the list.\n",
        "      input_ids.append(encoded_dict['input_ids'])\n",
        "\n",
        "      # And its attention mask (simply differentiates padding from non-padding).\n",
        "      attention_masks.append(encoded_dict['attention_mask'])\n",
        "  return input_ids, attention_masks\n",
        "\n",
        "def flat_accuracy(preds, labels):\n",
        "    pred_flat = np.argmax(preds, axis=1).flatten()\n",
        "    labels_flat = labels.flatten()\n",
        "    return np.sum(pred_flat == labels_flat) / len(labels_flat)\n"
      ]
    },
    {
      "cell_type": "markdown",
      "metadata": {
        "id": "FQuvdHDJqzRp"
      },
      "source": [
        "## Code"
      ]
    },
    {
      "cell_type": "markdown",
      "metadata": {
        "id": "88efVtq2ZzI0"
      },
      "source": [
        "### get_validation_performance"
      ]
    },
    {
      "cell_type": "code",
      "execution_count": null,
      "metadata": {
        "colab": {
          "base_uri": "https://localhost:8080/",
          "height": 17
        },
        "id": "O_Mzr-kd5RaY",
        "outputId": "f691ac45-f70d-4362-a3a3-39b7e78e45b3"
      },
      "outputs": [
        {
          "output_type": "display_data",
          "data": {
            "text/plain": [
              "<IPython.core.display.Javascript object>"
            ],
            "application/javascript": [
              "google.colab.output.setIframeHeight(0, true, {maxHeight: 300})"
            ]
          },
          "metadata": {}
        }
      ],
      "source": [
        "# function to get validation accuracy\n",
        "def get_validation_performance(val_set, model, batch_size, ret_output = False):\n",
        "    # Put the model in evaluation mode\n",
        "    model.eval()\n",
        "\n",
        "    # Tracking variables \n",
        "    total_eval_accuracy = 0\n",
        "    total_eval_loss = 0\n",
        "\n",
        "    num_batches = int(len(val_set)/batch_size) + 1\n",
        "\n",
        "    total_correct = 0\n",
        "    pred_labels = []\n",
        "\n",
        "    for i in range(num_batches):\n",
        "\n",
        "      end_index = min(batch_size * (i+1), len(val_set))\n",
        "\n",
        "      batch = val_set[i*batch_size:end_index]\n",
        "      \n",
        "      if len(batch) == 0: continue\n",
        "\n",
        "      input_id_tensors = torch.stack([data[0] for data in batch])\n",
        "      input_mask_tensors = torch.stack([data[1] for data in batch])\n",
        "      label_tensors = torch.stack([data[2] for data in batch])\n",
        "      \n",
        "      # Move tensors to the GPU\n",
        "      b_input_ids = input_id_tensors.to(device)\n",
        "      b_input_mask = input_mask_tensors.to(device)\n",
        "      b_labels = label_tensors.to(device)\n",
        "\n",
        "        \n",
        "      # Tell pytorch not to bother with constructing the compute graph during\n",
        "      # the forward pass, since this is only needed for backprop (training).\n",
        "      with torch.no_grad():        \n",
        "\n",
        "        # Forward pass, calculate logit predictions.\n",
        "        outputs = model(b_input_ids, \n",
        "                                token_type_ids=None, \n",
        "                                attention_mask=b_input_mask,\n",
        "                                labels=b_labels)\n",
        "        loss = outputs.loss\n",
        "        logits = outputs.logits\n",
        "            \n",
        "        # Accumulate the validation loss.\n",
        "        total_eval_loss += loss.item()\n",
        "        \n",
        "        # Move logits and labels to CPU\n",
        "        logits = logits.detach().cpu().numpy()\n",
        "        label_ids = b_labels.to('cpu').numpy()\n",
        "\n",
        "        # Calculate the number of correctly labeled examples in batch\n",
        "        pred_flat = np.argmax(logits, axis=1).flatten()\n",
        "        labels_flat = label_ids.flatten()\n",
        "        pred_labels.extend(list(pred_flat))\n",
        "        num_correct = np.sum(pred_flat == labels_flat)\n",
        "        total_correct += num_correct\n",
        "        \n",
        "    # Report the final accuracy for this validation run.\n",
        "    avg_val_accuracy = total_correct / len(val_set)\n",
        "\n",
        "    if ret_output:\n",
        "      return avg_val_accuracy, pred_labels\n",
        "      \n",
        "    return avg_val_accuracy\n",
        "\n"
      ]
    },
    {
      "cell_type": "markdown",
      "metadata": {
        "id": "cbBzku8mZ2qc"
      },
      "source": [
        "### model_training"
      ]
    },
    {
      "cell_type": "code",
      "execution_count": null,
      "metadata": {
        "colab": {
          "base_uri": "https://localhost:8080/",
          "height": 17
        },
        "id": "DKjxCQxdE7Qj",
        "outputId": "8efdb04c-4f9d-4243-fe62-c2f1cc2c9165"
      },
      "outputs": [
        {
          "output_type": "display_data",
          "data": {
            "text/plain": [
              "<IPython.core.display.Javascript object>"
            ],
            "application/javascript": [
              "google.colab.output.setIframeHeight(0, true, {maxHeight: 300})"
            ]
          },
          "metadata": {}
        }
      ],
      "source": [
        "def model_training(model,optimizer, train_set,val_set,_val, batch_size, ju = 'all'):\n",
        "  epochs = 10\n",
        "  ju = 'Unjudged' if ju==0 else 'Judged' if ju==1 else ju\n",
        "  for epoch_i in range(0, epochs):\n",
        "    # Perform one full pass over the training set.\n",
        "    print(\"\")\n",
        "    print('======== Epoch {:} / {:} - {:} ========'.format(epoch_i + 1, epochs, ju))\n",
        "    print('Training...')\n",
        "\n",
        "    # Reset the total loss for this epoch.\n",
        "    total_train_loss = 0\n",
        "\n",
        "    # Put the model into training mode.\n",
        "    model.train()\n",
        "\n",
        "    # For each batch of training data...\n",
        "    num_batches = int(len(train_set)/batch_size) + 1\n",
        "\n",
        "    for i in range(num_batches):\n",
        "      end_index = min(batch_size * (i+1), len(train_set))\n",
        "\n",
        "      batch = train_set[i*batch_size:end_index]\n",
        "\n",
        "      if len(batch) == 0: continue\n",
        "\n",
        "      input_id_tensors = torch.stack([data[0] for data in batch])\n",
        "      input_mask_tensors = torch.stack([data[1] for data in batch])\n",
        "      label_tensors = torch.stack([data[2] for data in batch])\n",
        "\n",
        "      # Move tensors to the GPU\n",
        "      b_input_ids = input_id_tensors.to(device)\n",
        "      b_input_mask = input_mask_tensors.to(device)\n",
        "      b_labels = label_tensors.to(device)\n",
        "\n",
        "      # Clear the previously calculated gradient\n",
        "      model.zero_grad()        \n",
        "\n",
        "      # Perform a forward pass (evaluate the model on this training batch).\n",
        "      outputs = model(b_input_ids, \n",
        "                            token_type_ids=None, \n",
        "                            attention_mask=b_input_mask, \n",
        "                            labels=b_labels)\n",
        "      loss = outputs.loss\n",
        "      logits = outputs.logits\n",
        "\n",
        "      total_train_loss += loss.item()\n",
        "\n",
        "      # Perform a backward pass to calculate the gradients.\n",
        "      loss.backward()\n",
        "\n",
        "      # Update parameters and take a step using the computed gradient.\n",
        "      optimizer.step()\n",
        "\n",
        "      # ========================================\n",
        "      #               Validation\n",
        "      # ========================================\n",
        "      # After the completion of each training epoch, measure our performance on\n",
        "      # our validation set. Implement this function in the cell above.\n",
        "    print(f\"Total loss: {total_train_loss}\")\n",
        "    val_acc, pred_labels = get_validation_performance(val_set, model, batch_size, ret_output=True)\n",
        "    print(f\"Validation accuracy: {val_acc}\\n\")\n",
        "    print(classification_report(_val['label'], pred_labels, digits=4, zero_division=1, labels=[0,1,2]))\n",
        "  \n",
        "  return model, optimizer, total_train_loss"
      ]
    },
    {
      "cell_type": "markdown",
      "metadata": {
        "id": "lIgExFvvZ6Tx"
      },
      "source": [
        "### main"
      ]
    },
    {
      "cell_type": "code",
      "execution_count": null,
      "metadata": {
        "colab": {
          "base_uri": "https://localhost:8080/",
          "height": 17
        },
        "id": "YGhkeLQlNNr8",
        "outputId": "577a2bda-deee-4660-e6d1-bbd4329d236b"
      },
      "outputs": [
        {
          "output_type": "display_data",
          "data": {
            "text/plain": [
              "<IPython.core.display.Javascript object>"
            ],
            "application/javascript": [
              "google.colab.output.setIframeHeight(0, true, {maxHeight: 300})"
            ]
          },
          "metadata": {}
        }
      ],
      "source": [
        "def main(_df):\n",
        "  list_model = ['HooshvareLab/bert-base-parsbert-uncased']\n",
        "  # list_model = ['bert-base-multilingual-cased', 'arm-on/BERTweet-FA', 'xlm-roberta-base','HooshvareLab/bert-base-parsbert-uncased']\n",
        "  # list_model = ['arm-on/BERTweet-FA', 'xlm-roberta-base','HooshvareLab/bert-base-parsbert-uncased']\n",
        "\n",
        "  # _df['label'] = _df['label'].apply(lambda x: 0 if x == '0- NO' else 1 if x == '1- Offensive' else 2)\n",
        "  \n",
        "  for _MODEL in list_model:\n",
        "\n",
        "    \n",
        "    batch_size = 64\n",
        "\n",
        "    if _MODEL in ['bert-base-multilingual-cased', 'HooshvareLab/bert-base-parsbert-uncased', 'arm-on/BERTweet-FA']:\n",
        "      model = BertForSequenceClassification.from_pretrained(\n",
        "        _MODEL, # Use the 12-layer BERT model, with an uncased vocab. bert-base-uncased arm-on/BERTweet-FA\n",
        "        # f'arm-on/BERTweet-FA', # Use the 12-layer BERT model, with an uncased vocab.\n",
        "        num_labels = 3, # The number of output labels.   \n",
        "        output_attentions = False, # Whether the model returns attentions weights.\n",
        "        output_hidden_states = False, # Whether the model returns all hidden-states.,        \n",
        "    )\n",
        "      \n",
        "    elif _MODEL == 'xlm-roberta-base':\n",
        "      model = RobertaForSequenceClassification.from_pretrained(\n",
        "        _MODEL,\n",
        "        num_labels = 3, # The number of output labels.   \n",
        "        output_attentions = False, # Whether the model returns attentions weights.\n",
        "        output_hidden_states = False, # Whether the model returns all hidden-states.,\n",
        "    )\n",
        "\n",
        "    # Tell pytorch to run this model on the GPU.\n",
        "    model.cuda()\n",
        "\n",
        "    optimizer = torch.optim.AdamW(model.parameters(),\n",
        "                      lr = 2.5e-5, # args.learning_rate - default is 5e-5\n",
        "                      # eps = 1e-15  # args.adam_epsilon  - default is 1e-8\n",
        "                    )\n",
        "    \n",
        "    # for ju in [0, 1]:\n",
        "    # for ju in [1]:\n",
        "    # df = _df.loc[_df['judged'] == ju]\n",
        "    df = _df\n",
        "    df = df.sample(frac=1).reset_index(drop=True)\n",
        "    texts = df.tweet.values\n",
        "    labels = df.label.values\n",
        "\n",
        "    ### tokenize_and_format() is a helper function provided in helpers.py ###\n",
        "    input_ids, attention_masks = tokenize_and_format(texts, _MODEL)\n",
        "\n",
        "    # Convert the lists into tensors.\n",
        "    input_ids = torch.cat(input_ids, dim=0)\n",
        "    attention_masks = torch.cat(attention_masks, dim=0)\n",
        "    labels = torch.tensor(labels)\n",
        "\n",
        "    # print('Token IDs:', input_ids[0])\n",
        "\n",
        "\n",
        "    total = len(df.loc[df['status'] == 'train'])\n",
        "\n",
        "    num_train = int(total * .9)\n",
        "    num_val = int(total * .1)\n",
        "    # num_test = total - num_train - num_val\n",
        "    num_test = len(df.loc[df['status'] == 'test'])\n",
        "\n",
        "    _val = df.loc[(df['status'] == 'train')].sample(n = num_val)\n",
        "    # _val = df.loc[(df['status'] == 'train') & (df['judged'] == 1)].sample(n = num_val)\n",
        "    _test = df.loc[df['status'] == 'test']\n",
        "    _train = df.drop(_val.index)\n",
        "    _train = _train.drop(_test.index)\n",
        "\n",
        "    # # make lists of 3-tuples (already shuffled the dataframe in cell above)\n",
        "\n",
        "    train_set = [(input_ids[i], attention_masks[i], labels[i]) for i, row in _train.iterrows()]\n",
        "    val_set = [(input_ids[i], attention_masks[i], labels[i]) for i, row in _val.iterrows()]\n",
        "    test_set = [(input_ids[i], attention_masks[i], labels[i]) for i, row in _test.iterrows()]\n",
        "\n",
        "    train_text = [texts[i] for i, row in _train.iterrows()]\n",
        "    val_text = [texts[i] for i, row in _val.iterrows()]\n",
        "    test_text = [texts[i] for i, row in _test.iterrows()]\n",
        "\n",
        "    # print('train_set', len(train_set))\n",
        "    # print('val_set',len(val_set))\n",
        "    # print('test_set',len(test_set))\n",
        "    # print('train_text',len(train_text))\n",
        "    # print('val_text',len(val_text))\n",
        "    # print('test_text',len(test_text))\n",
        "\n",
        "    model,optimizer,total_train_loss = model_training(model, optimizer, train_set,val_set,_val, batch_size)\n",
        "             \n",
        "\n",
        "        \n",
        "\n",
        "    val_acc, pred_labels = get_validation_performance(test_set, model, batch_size,ret_output=True)\n",
        "\n",
        "    print(\"Test Set Report:\\n\")\n",
        "    print(classification_report(_test['label'], pred_labels, digits=4, labels=[0,1,2]))\n",
        "    print(f\"Test Set accuracy: {val_acc}\\n\")\n",
        "\n",
        "    cm = confusion_matrix(_test['label'], pred_labels)\n",
        "    disp = ConfusionMatrixDisplay(confusion_matrix=cm)\n",
        "    disp.plot()\n",
        "    plt.show()\n",
        "    print(\"\\n\")\n",
        "    _test['pred'] = pred_labels\n",
        "    df_test = _test[_test['label'] != _test['pred']].sample(n = 10)\n",
        "    for i, row in df_test.iterrows():\n",
        "      print(row['tweet'])\n",
        "      print('Label: ',row['label'],'   Predict: ',row['pred'])\n",
        "      print('====================================================')\n",
        "    \n",
        "    return model\n",
        "\n",
        "  print(\"\")\n",
        "  print(\"Training complete! \\n\")\n",
        "  print('====================================================\\n')\n",
        "  print('====================================================\\n\\n\\n\\n\\n')\n",
        "\n",
        "  del optimizer\n",
        "  gc.collect()\n",
        "  torch.cuda.empty_cache()\n"
      ]
    },
    {
      "cell_type": "markdown",
      "metadata": {
        "id": "6ISVNAY2X3zb"
      },
      "source": [
        "## Run"
      ]
    },
    {
      "cell_type": "code",
      "execution_count": null,
      "metadata": {
        "id": "tt0No7bUs9uX"
      },
      "outputs": [],
      "source": [
        "gc.collect()\n",
        "torch.cuda.empty_cache()\n",
        "model = main(df)\n"
      ]
    },
    {
      "cell_type": "code",
      "execution_count": null,
      "metadata": {
        "id": "X72mumhI9WdR",
        "colab": {
          "base_uri": "https://localhost:8080/",
          "height": 17
        },
        "outputId": "37b1363d-29f6-493a-9e50-1767f1ef4c04"
      },
      "outputs": [
        {
          "output_type": "display_data",
          "data": {
            "text/plain": [
              "<IPython.core.display.Javascript object>"
            ],
            "application/javascript": [
              "google.colab.output.setIframeHeight(0, true, {maxHeight: 300})"
            ]
          },
          "metadata": {}
        }
      ],
      "source": [
        "model.save_pretrained('/content/modelparsbert/')"
      ]
    },
    {
      "cell_type": "markdown",
      "source": [
        "# Bias Measurement"
      ],
      "metadata": {
        "id": "Z8aBCXp9c4e_"
      }
    },
    {
      "cell_type": "markdown",
      "source": [
        "### tokenize_and_format"
      ],
      "metadata": {
        "id": "HWWZcrYLhFFv"
      }
    },
    {
      "cell_type": "code",
      "source": [
        "def tokenize_and_format(sentences, model_dir):\n",
        "  \n",
        "  if model_dir == '//content//drive//MyDrive//Colab Notebooks//modelfarsi':\n",
        "    tokenizer = BertTokenizer.from_pretrained('arm-on/BERTweet-FA', do_lower_case=True)\n",
        "\n",
        "  if model_dir == '//content//drive//MyDrive//Colab Notebooks//modelparsbert':\n",
        "    tokenizer = BertTokenizer.from_pretrained('HooshvareLab/bert-base-parsbert-uncased', do_lower_case=True)\n",
        "\n",
        "\n",
        "  # Tokenize all of the sentences and map the tokens to thier word IDs.\n",
        "  input_ids = []\n",
        "  attention_masks = []\n",
        "\n",
        "  # For every sentence...\n",
        "  for sentence in sentences:\n",
        "      # `encode_plus` will:\n",
        "      #   (1) Tokenize the sentence.\n",
        "      #   (2) Prepend the `[CLS]` token to the start.\n",
        "      #   (3) Append the `[SEP]` token to the end.\n",
        "      #   (4) Map tokens to their IDs.\n",
        "      #   (5) Pad or truncate the sentence to `max_length`\n",
        "      #   (6) Create attention masks for [PAD] tokens.\n",
        "      encoded_dict = tokenizer.encode_plus(\n",
        "                          sentence,                      # Sentence to encode.\n",
        "                          add_special_tokens = True, # Add '[CLS]' and '[SEP]'\n",
        "                          max_length = 64,           # Pad & truncate all sentences.\n",
        "                          padding = 'max_length',\n",
        "                          truncation = True,\n",
        "                          return_attention_mask = True,   # Construct attn. masks.\n",
        "                          return_tensors = 'pt',     # Return pytorch tensors.\n",
        "                    )\n",
        "\n",
        "      # Add the encoded sentence to the list.\n",
        "      input_ids.append(encoded_dict['input_ids'])\n",
        "\n",
        "      # And its attention mask (simply differentiates padding from non-padding).\n",
        "      attention_masks.append(encoded_dict['attention_mask'])\n",
        "  return input_ids, attention_masks\n",
        "\n",
        "def flat_accuracy(preds, labels):\n",
        "    pred_flat = np.argmax(preds, axis=1).flatten()\n",
        "    labels_flat = labels.flatten()\n",
        "    return np.sum(pred_flat == labels_flat) / len(labels_flat)"
      ],
      "metadata": {
        "colab": {
          "base_uri": "https://localhost:8080/",
          "height": 17
        },
        "id": "9OX4aZMLc8co",
        "outputId": "9b807827-56c1-4b83-81d8-363fa2c07da1"
      },
      "execution_count": null,
      "outputs": [
        {
          "output_type": "display_data",
          "data": {
            "text/plain": [
              "<IPython.core.display.Javascript object>"
            ],
            "application/javascript": [
              "google.colab.output.setIframeHeight(0, true, {maxHeight: 300})"
            ]
          },
          "metadata": {}
        }
      ]
    },
    {
      "cell_type": "markdown",
      "metadata": {
        "id": "0dRSXI4jhD2y"
      },
      "source": [
        "### get_validation_performance"
      ]
    },
    {
      "cell_type": "code",
      "execution_count": null,
      "metadata": {
        "colab": {
          "base_uri": "https://localhost:8080/"
        },
        "outputId": "4cc14c5c-f819-4db8-d3b2-cd6906549e19",
        "id": "UslMNDPShD25"
      },
      "outputs": [
        {
          "output_type": "display_data",
          "data": {
            "text/plain": [
              "<IPython.core.display.Javascript object>"
            ],
            "application/javascript": [
              "google.colab.output.setIframeHeight(0, true, {maxHeight: 300})"
            ]
          },
          "metadata": {}
        }
      ],
      "source": [
        "# function to get validation accuracy\n",
        "def get_validation_performance(val_set, model, batch_size):\n",
        "    # Put the model in evaluation mode\n",
        "    model.eval()\n",
        "\n",
        "    # Tracking variables \n",
        "    total_eval_accuracy = 0\n",
        "\n",
        "    num_batches = int(len(val_set)/batch_size) + 1\n",
        "\n",
        "    total_correct = 0\n",
        "    pred_labels = []\n",
        "\n",
        "    for i in range(num_batches):\n",
        "\n",
        "      end_index = min(batch_size * (i+1), len(val_set))\n",
        "\n",
        "      batch = val_set[i*batch_size:end_index]\n",
        "      \n",
        "      if len(batch) == 0: continue\n",
        "\n",
        "      input_id_tensors = torch.stack([data[0] for data in batch])\n",
        "      input_mask_tensors = torch.stack([data[1] for data in batch])\n",
        "      \n",
        "      # Move tensors to the GPU\n",
        "      b_input_ids = input_id_tensors.to(device)\n",
        "      b_input_mask = input_mask_tensors.to(device)\n",
        "\n",
        "        \n",
        "      # Tell pytorch not to bother with constructing the compute graph during\n",
        "      # the forward pass, since this is only needed for backprop (training).\n",
        "      with torch.no_grad():        \n",
        "\n",
        "        # Forward pass, calculate logit predictions.\n",
        "        outputs = model(b_input_ids, \n",
        "                                token_type_ids=None, \n",
        "                                attention_mask=b_input_mask)\n",
        "        loss = outputs.loss\n",
        "        logits = outputs.logits\n",
        "            \n",
        "        # Accumulate the validation loss.\n",
        "        \n",
        "        # Move logits and labels to CPU\n",
        "        logits = logits.detach().cpu().numpy()\n",
        "\n",
        "        # Calculate the number of correctly labeled examples in batch\n",
        "        pred_flat = np.argmax(logits, axis=1).flatten()\n",
        "\n",
        "        pred_labels.extend(list(pred_flat))\n",
        "\n",
        "\n",
        "      \n",
        "    return pred_labels\n",
        "\n"
      ]
    },
    {
      "cell_type": "markdown",
      "source": [
        "### main"
      ],
      "metadata": {
        "id": "9BqBumB2ibDX"
      }
    },
    {
      "cell_type": "code",
      "source": [
        "def main(df, _MODEL):\n",
        "  # list_model = ['//content//drive//MyDrive//Colab Notebooks//modelfarsi','//content//drive//MyDrive//Colab Notebooks//modelparsbert']\n",
        "  # list_model = ['bert-base-multilingual-cased', 'arm-on/BERTweet-FA', 'xlm-roberta-base','HooshvareLab/bert-base-parsbert-uncased']\n",
        "  # list_model = ['arm-on/BERTweet-FA', 'xlm-roberta-base','HooshvareLab/bert-base-parsbert-uncased']\n",
        "\n",
        "  # _df['label'] = _df['label'].apply(lambda x: 0 if x == '0- NO' else 1 if x == '1- Offensive' else 2)\n",
        "  \n",
        "  # for _MODEL in list_model:\n",
        "    \n",
        "  batch_size = 64\n",
        "\n",
        "  model = BertForSequenceClassification.from_pretrained(_MODEL)\n",
        "\n",
        "\n",
        "  # Tell pytorch to run this model on the GPU.\n",
        "  model.cuda()\n",
        "\n",
        "  df = df.sample(frac=1).reset_index(drop=True)\n",
        "  texts = df.tweet.values\n",
        "\n",
        "  ### tokenize_and_format() is a helper function provided in helpers.py ###\n",
        "  input_ids, attention_masks = tokenize_and_format(texts, _MODEL)\n",
        "\n",
        "  # Convert the lists into tensors.\n",
        "  input_ids = torch.cat(input_ids, dim=0)\n",
        "  attention_masks = torch.cat(attention_masks, dim=0)\n",
        "\n",
        "  # print('Token IDs:', input_ids[0])\n",
        "\n",
        "\n",
        "  total = len(df)\n",
        "  \n",
        "  _test = df\n",
        "\n",
        "  test_set = [(input_ids[i], attention_masks[i]) for i, row in _test.iterrows()]\n",
        "\n",
        "  test_text = [texts[i] for i, row in _test.iterrows()]\n",
        "\n",
        "            \n",
        "\n",
        "      \n",
        "\n",
        "  pred_labels = get_validation_performance(test_set, model, batch_size)\n",
        "\n",
        "  print(\"Test Set Report:\\n\")\n",
        "  # print(classification_report(_test['label'], pred_labels, digits=4, labels=[0,1,2]))\n",
        "\n",
        "\n",
        "  # cm = confusion_matrix(_test['label'], pred_labels)\n",
        "  # disp = ConfusionMatrixDisplay(confusion_matrix=cm)\n",
        "  # disp.plot()\n",
        "  # plt.show()\n",
        "  print(\"\\n\")\n",
        "  _test['pred'] = pred_labels\n",
        "  # df_test = _test[_test['label'] != _test['pred']].sample(n = 10)\n",
        "  # for i, row in df_test.iterrows():\n",
        "  #   print(row['tweet'])\n",
        "  #   print('Label: ',row['label'],'   Predict: ',row['pred'])\n",
        "  #   print('====================================================')\n",
        "\n",
        "  gc.collect()\n",
        "  torch.cuda.empty_cache()\n",
        "\n",
        "  return _test\n",
        "\n",
        "\n"
      ],
      "metadata": {
        "colab": {
          "base_uri": "https://localhost:8080/",
          "height": 17
        },
        "id": "fYRw1YD5ibWb",
        "outputId": "3ad9ddfd-3a30-409e-d0ee-b239ff3747e2"
      },
      "execution_count": null,
      "outputs": [
        {
          "output_type": "display_data",
          "data": {
            "text/plain": [
              "<IPython.core.display.Javascript object>"
            ],
            "application/javascript": [
              "google.colab.output.setIframeHeight(0, true, {maxHeight: 300})"
            ]
          },
          "metadata": {}
        }
      ]
    },
    {
      "cell_type": "code",
      "source": [
        "df = pd.read_excel('//content//drive//MyDrive//Colab Notebooks//Files//biasmeasurement//arab.xlsx')\n",
        "\n",
        "df = df.sample(frac=1).reset_index(drop=True)\n",
        "df['tweet'] = df['tweet'].apply(lambda x: str(x))\n"
      ],
      "metadata": {
        "colab": {
          "base_uri": "https://localhost:8080/",
          "height": 17
        },
        "id": "24da5OxBlqhO",
        "outputId": "28d61142-3a65-45bb-b1c9-d55a3b3a54bd"
      },
      "execution_count": null,
      "outputs": [
        {
          "output_type": "display_data",
          "data": {
            "text/plain": [
              "<IPython.core.display.Javascript object>"
            ],
            "application/javascript": [
              "google.colab.output.setIframeHeight(0, true, {maxHeight: 300})"
            ]
          },
          "metadata": {}
        }
      ]
    },
    {
      "cell_type": "code",
      "source": [
        "list_model = ['//content//drive//MyDrive//Colab Notebooks//modelfarsi','//content//drive//MyDrive//Colab Notebooks//modelparsbert']\n",
        "columns = ['arab','kord','lor','tork','balooch','zoroastrian','jewish','islam','christan']\n",
        "outcome = {}\n",
        "for c in columns:\n",
        "  df = pd.read_excel(f'//content//drive//MyDrive//Colab Notebooks//Files//biasmeasurement//{c}.xlsx')\n",
        "  for _model in list_model:\n",
        "    df = df.sample(frac=1).reset_index(drop=True)\n",
        "    df['tweet'] = df['tweet'].apply(lambda x: str(x))\n",
        "    res = main(df, _model)\n",
        "    print(_model)\n",
        "    print(res.groupby([c,'pred'])['pred'].count().reset_index(name='counts'))\n",
        "    print(\"\\n =========== \\n\")\n",
        "    outcome[c] = res.groupby([c,'pred'])['pred'].count().reset_index(name='counts').to_dict('record')"
      ],
      "metadata": {
        "colab": {
          "base_uri": "https://localhost:8080/"
        },
        "id": "qFtQhdtsmVZV",
        "outputId": "1f58e414-da58-4e01-8a0e-54b60f33574a"
      },
      "execution_count": null,
      "outputs": [
        {
          "output_type": "stream",
          "name": "stdout",
          "text": [
            "Test Set Report:\n",
            "\n",
            "\n",
            "\n",
            "//content//drive//MyDrive//Colab Notebooks//modelfarsi\n",
            "   arab  pred  counts\n",
            "0     0     0    4845\n",
            "1     0     1     145\n",
            "2     0     2      10\n",
            "3     1     0    3500\n",
            "4     1     1     585\n",
            "5     1     2     915\n",
            "\n",
            " =========== \n",
            "\n"
          ]
        },
        {
          "output_type": "stream",
          "name": "stderr",
          "text": [
            "<ipython-input-51-8aac8e64c904>:13: FutureWarning: Using short name for 'orient' is deprecated. Only the options: ('dict', list, 'series', 'split', 'records', 'index') will be used in a future version. Use one of the above to silence this warning.\n",
            "  outcome[c] = res.groupby([c,'pred'])['pred'].count().reset_index(name='counts').to_dict('record')\n"
          ]
        },
        {
          "output_type": "stream",
          "name": "stdout",
          "text": [
            "Test Set Report:\n",
            "\n",
            "\n",
            "\n",
            "//content//drive//MyDrive//Colab Notebooks//modelparsbert\n",
            "   arab  pred  counts\n",
            "0     0     0    4811\n",
            "1     0     1     187\n",
            "2     0     2       2\n",
            "3     1     0    3521\n",
            "4     1     1     594\n",
            "5     1     2     885\n",
            "\n",
            " =========== \n",
            "\n"
          ]
        },
        {
          "output_type": "stream",
          "name": "stderr",
          "text": [
            "<ipython-input-51-8aac8e64c904>:13: FutureWarning: Using short name for 'orient' is deprecated. Only the options: ('dict', list, 'series', 'split', 'records', 'index') will be used in a future version. Use one of the above to silence this warning.\n",
            "  outcome[c] = res.groupby([c,'pred'])['pred'].count().reset_index(name='counts').to_dict('record')\n"
          ]
        },
        {
          "output_type": "stream",
          "name": "stdout",
          "text": [
            "Test Set Report:\n",
            "\n",
            "\n",
            "\n",
            "//content//drive//MyDrive//Colab Notebooks//modelfarsi\n",
            "   kord  pred  counts\n",
            "0     0     0    4844\n",
            "1     0     1     145\n",
            "2     0     2      11\n",
            "3     1     0    4560\n",
            "4     1     1     326\n",
            "5     1     2     114\n",
            "\n",
            " =========== \n",
            "\n"
          ]
        },
        {
          "output_type": "stream",
          "name": "stderr",
          "text": [
            "<ipython-input-51-8aac8e64c904>:13: FutureWarning: Using short name for 'orient' is deprecated. Only the options: ('dict', list, 'series', 'split', 'records', 'index') will be used in a future version. Use one of the above to silence this warning.\n",
            "  outcome[c] = res.groupby([c,'pred'])['pred'].count().reset_index(name='counts').to_dict('record')\n"
          ]
        },
        {
          "output_type": "stream",
          "name": "stdout",
          "text": [
            "Test Set Report:\n",
            "\n",
            "\n",
            "\n",
            "//content//drive//MyDrive//Colab Notebooks//modelparsbert\n",
            "   kord  pred  counts\n",
            "0     0     0    4810\n",
            "1     0     1     187\n",
            "2     0     2       3\n",
            "3     1     0    4530\n",
            "4     1     1     400\n",
            "5     1     2      70\n",
            "\n",
            " =========== \n",
            "\n"
          ]
        },
        {
          "output_type": "stream",
          "name": "stderr",
          "text": [
            "<ipython-input-51-8aac8e64c904>:13: FutureWarning: Using short name for 'orient' is deprecated. Only the options: ('dict', list, 'series', 'split', 'records', 'index') will be used in a future version. Use one of the above to silence this warning.\n",
            "  outcome[c] = res.groupby([c,'pred'])['pred'].count().reset_index(name='counts').to_dict('record')\n"
          ]
        },
        {
          "output_type": "stream",
          "name": "stdout",
          "text": [
            "Test Set Report:\n",
            "\n",
            "\n",
            "\n",
            "//content//drive//MyDrive//Colab Notebooks//modelfarsi\n",
            "   lor  pred  counts\n",
            "0    0     0    4844\n",
            "1    0     1     145\n",
            "2    0     2      11\n",
            "3    1     0    4395\n",
            "4    1     1     504\n",
            "5    1     2     101\n",
            "\n",
            " =========== \n",
            "\n"
          ]
        },
        {
          "output_type": "stream",
          "name": "stderr",
          "text": [
            "<ipython-input-51-8aac8e64c904>:13: FutureWarning: Using short name for 'orient' is deprecated. Only the options: ('dict', list, 'series', 'split', 'records', 'index') will be used in a future version. Use one of the above to silence this warning.\n",
            "  outcome[c] = res.groupby([c,'pred'])['pred'].count().reset_index(name='counts').to_dict('record')\n"
          ]
        },
        {
          "output_type": "stream",
          "name": "stdout",
          "text": [
            "Test Set Report:\n",
            "\n",
            "\n",
            "\n",
            "//content//drive//MyDrive//Colab Notebooks//modelparsbert\n",
            "   lor  pred  counts\n",
            "0    0     0    4810\n",
            "1    0     1     187\n",
            "2    0     2       3\n",
            "3    1     0    4299\n",
            "4    1     1     622\n",
            "5    1     2      79\n",
            "\n",
            " =========== \n",
            "\n"
          ]
        },
        {
          "output_type": "stream",
          "name": "stderr",
          "text": [
            "<ipython-input-51-8aac8e64c904>:13: FutureWarning: Using short name for 'orient' is deprecated. Only the options: ('dict', list, 'series', 'split', 'records', 'index') will be used in a future version. Use one of the above to silence this warning.\n",
            "  outcome[c] = res.groupby([c,'pred'])['pred'].count().reset_index(name='counts').to_dict('record')\n"
          ]
        },
        {
          "output_type": "stream",
          "name": "stdout",
          "text": [
            "Test Set Report:\n",
            "\n",
            "\n",
            "\n",
            "//content//drive//MyDrive//Colab Notebooks//modelfarsi\n",
            "   tork  pred  counts\n",
            "0     0     0    4846\n",
            "1     0     1     144\n",
            "2     0     2      10\n",
            "3     1     0    4455\n",
            "4     1     1     418\n",
            "5     1     2     127\n",
            "\n",
            " =========== \n",
            "\n"
          ]
        },
        {
          "output_type": "stream",
          "name": "stderr",
          "text": [
            "<ipython-input-51-8aac8e64c904>:13: FutureWarning: Using short name for 'orient' is deprecated. Only the options: ('dict', list, 'series', 'split', 'records', 'index') will be used in a future version. Use one of the above to silence this warning.\n",
            "  outcome[c] = res.groupby([c,'pred'])['pred'].count().reset_index(name='counts').to_dict('record')\n"
          ]
        },
        {
          "output_type": "stream",
          "name": "stdout",
          "text": [
            "Test Set Report:\n",
            "\n",
            "\n",
            "\n",
            "//content//drive//MyDrive//Colab Notebooks//modelparsbert\n",
            "   tork  pred  counts\n",
            "0     0     0    4812\n",
            "1     0     1     185\n",
            "2     0     2       3\n",
            "3     1     0    4323\n",
            "4     1     1     544\n",
            "5     1     2     133\n",
            "\n",
            " =========== \n",
            "\n"
          ]
        },
        {
          "output_type": "stream",
          "name": "stderr",
          "text": [
            "<ipython-input-51-8aac8e64c904>:13: FutureWarning: Using short name for 'orient' is deprecated. Only the options: ('dict', list, 'series', 'split', 'records', 'index') will be used in a future version. Use one of the above to silence this warning.\n",
            "  outcome[c] = res.groupby([c,'pred'])['pred'].count().reset_index(name='counts').to_dict('record')\n"
          ]
        },
        {
          "output_type": "stream",
          "name": "stdout",
          "text": [
            "Test Set Report:\n",
            "\n",
            "\n",
            "\n",
            "//content//drive//MyDrive//Colab Notebooks//modelfarsi\n",
            "   balooch  pred  counts\n",
            "0        0     0    4844\n",
            "1        0     1     145\n",
            "2        0     2      11\n",
            "3        1     0    4423\n",
            "4        1     1     469\n",
            "5        1     2     108\n",
            "\n",
            " =========== \n",
            "\n"
          ]
        },
        {
          "output_type": "stream",
          "name": "stderr",
          "text": [
            "<ipython-input-51-8aac8e64c904>:13: FutureWarning: Using short name for 'orient' is deprecated. Only the options: ('dict', list, 'series', 'split', 'records', 'index') will be used in a future version. Use one of the above to silence this warning.\n",
            "  outcome[c] = res.groupby([c,'pred'])['pred'].count().reset_index(name='counts').to_dict('record')\n"
          ]
        },
        {
          "output_type": "stream",
          "name": "stdout",
          "text": [
            "Test Set Report:\n",
            "\n",
            "\n",
            "\n",
            "//content//drive//MyDrive//Colab Notebooks//modelparsbert\n",
            "   balooch  pred  counts\n",
            "0        0     0    4810\n",
            "1        0     1     187\n",
            "2        0     2       3\n",
            "3        1     0    4341\n",
            "4        1     1     602\n",
            "5        1     2      57\n",
            "\n",
            " =========== \n",
            "\n"
          ]
        },
        {
          "output_type": "stream",
          "name": "stderr",
          "text": [
            "<ipython-input-51-8aac8e64c904>:13: FutureWarning: Using short name for 'orient' is deprecated. Only the options: ('dict', list, 'series', 'split', 'records', 'index') will be used in a future version. Use one of the above to silence this warning.\n",
            "  outcome[c] = res.groupby([c,'pred'])['pred'].count().reset_index(name='counts').to_dict('record')\n"
          ]
        },
        {
          "output_type": "stream",
          "name": "stdout",
          "text": [
            "Test Set Report:\n",
            "\n",
            "\n",
            "\n",
            "//content//drive//MyDrive//Colab Notebooks//modelfarsi\n",
            "   zoroastrian  pred  counts\n",
            "0            0     0    4844\n",
            "1            0     1     145\n",
            "2            0     2      11\n",
            "3            1     0    4562\n",
            "4            1     1     332\n",
            "5            1     2     106\n",
            "\n",
            " =========== \n",
            "\n"
          ]
        },
        {
          "output_type": "stream",
          "name": "stderr",
          "text": [
            "<ipython-input-51-8aac8e64c904>:13: FutureWarning: Using short name for 'orient' is deprecated. Only the options: ('dict', list, 'series', 'split', 'records', 'index') will be used in a future version. Use one of the above to silence this warning.\n",
            "  outcome[c] = res.groupby([c,'pred'])['pred'].count().reset_index(name='counts').to_dict('record')\n"
          ]
        },
        {
          "output_type": "stream",
          "name": "stdout",
          "text": [
            "Test Set Report:\n",
            "\n",
            "\n",
            "\n",
            "//content//drive//MyDrive//Colab Notebooks//modelparsbert\n",
            "   zoroastrian  pred  counts\n",
            "0            0     0    4810\n",
            "1            0     1     187\n",
            "2            0     2       3\n",
            "3            1     0    4269\n",
            "4            1     1     625\n",
            "5            1     2     106\n",
            "\n",
            " =========== \n",
            "\n"
          ]
        },
        {
          "output_type": "stream",
          "name": "stderr",
          "text": [
            "<ipython-input-51-8aac8e64c904>:13: FutureWarning: Using short name for 'orient' is deprecated. Only the options: ('dict', list, 'series', 'split', 'records', 'index') will be used in a future version. Use one of the above to silence this warning.\n",
            "  outcome[c] = res.groupby([c,'pred'])['pred'].count().reset_index(name='counts').to_dict('record')\n"
          ]
        },
        {
          "output_type": "stream",
          "name": "stdout",
          "text": [
            "Test Set Report:\n",
            "\n",
            "\n",
            "\n",
            "//content//drive//MyDrive//Colab Notebooks//modelfarsi\n",
            "   jewish  pred  counts\n",
            "0       0     0    4844\n",
            "1       0     1     145\n",
            "2       0     2      11\n",
            "3       1     0    4039\n",
            "4       1     1     709\n",
            "5       1     2     252\n",
            "\n",
            " =========== \n",
            "\n"
          ]
        },
        {
          "output_type": "stream",
          "name": "stderr",
          "text": [
            "<ipython-input-51-8aac8e64c904>:13: FutureWarning: Using short name for 'orient' is deprecated. Only the options: ('dict', list, 'series', 'split', 'records', 'index') will be used in a future version. Use one of the above to silence this warning.\n",
            "  outcome[c] = res.groupby([c,'pred'])['pred'].count().reset_index(name='counts').to_dict('record')\n"
          ]
        },
        {
          "output_type": "stream",
          "name": "stdout",
          "text": [
            "Test Set Report:\n",
            "\n",
            "\n",
            "\n",
            "//content//drive//MyDrive//Colab Notebooks//modelparsbert\n",
            "   jewish  pred  counts\n",
            "0       0     0    4810\n",
            "1       0     1     187\n",
            "2       0     2       3\n",
            "3       1     0    3898\n",
            "4       1     1     830\n",
            "5       1     2     272\n",
            "\n",
            " =========== \n",
            "\n"
          ]
        },
        {
          "output_type": "stream",
          "name": "stderr",
          "text": [
            "<ipython-input-51-8aac8e64c904>:13: FutureWarning: Using short name for 'orient' is deprecated. Only the options: ('dict', list, 'series', 'split', 'records', 'index') will be used in a future version. Use one of the above to silence this warning.\n",
            "  outcome[c] = res.groupby([c,'pred'])['pred'].count().reset_index(name='counts').to_dict('record')\n"
          ]
        },
        {
          "output_type": "stream",
          "name": "stdout",
          "text": [
            "Test Set Report:\n",
            "\n",
            "\n",
            "\n",
            "//content//drive//MyDrive//Colab Notebooks//modelfarsi\n",
            "   islam  pred  counts\n",
            "0      0     0    4846\n",
            "1      0     1     144\n",
            "2      0     2      10\n",
            "3      1     0    4490\n",
            "4      1     1     303\n",
            "5      1     2     207\n",
            "\n",
            " =========== \n",
            "\n"
          ]
        },
        {
          "output_type": "stream",
          "name": "stderr",
          "text": [
            "<ipython-input-51-8aac8e64c904>:13: FutureWarning: Using short name for 'orient' is deprecated. Only the options: ('dict', list, 'series', 'split', 'records', 'index') will be used in a future version. Use one of the above to silence this warning.\n",
            "  outcome[c] = res.groupby([c,'pred'])['pred'].count().reset_index(name='counts').to_dict('record')\n"
          ]
        },
        {
          "output_type": "stream",
          "name": "stdout",
          "text": [
            "Test Set Report:\n",
            "\n",
            "\n",
            "\n",
            "//content//drive//MyDrive//Colab Notebooks//modelparsbert\n",
            "   islam  pred  counts\n",
            "0      0     0    4813\n",
            "1      0     1     185\n",
            "2      0     2       2\n",
            "3      1     0    4417\n",
            "4      1     1     393\n",
            "5      1     2     190\n",
            "\n",
            " =========== \n",
            "\n"
          ]
        },
        {
          "output_type": "stream",
          "name": "stderr",
          "text": [
            "<ipython-input-51-8aac8e64c904>:13: FutureWarning: Using short name for 'orient' is deprecated. Only the options: ('dict', list, 'series', 'split', 'records', 'index') will be used in a future version. Use one of the above to silence this warning.\n",
            "  outcome[c] = res.groupby([c,'pred'])['pred'].count().reset_index(name='counts').to_dict('record')\n"
          ]
        },
        {
          "output_type": "stream",
          "name": "stdout",
          "text": [
            "Test Set Report:\n",
            "\n",
            "\n",
            "\n",
            "//content//drive//MyDrive//Colab Notebooks//modelfarsi\n",
            "   christan  pred  counts\n",
            "0         0     0    4844\n",
            "1         0     1     145\n",
            "2         0     2      11\n",
            "3         1     0    4406\n",
            "4         1     1     513\n",
            "5         1     2      81\n",
            "\n",
            " =========== \n",
            "\n"
          ]
        },
        {
          "output_type": "stream",
          "name": "stderr",
          "text": [
            "<ipython-input-51-8aac8e64c904>:13: FutureWarning: Using short name for 'orient' is deprecated. Only the options: ('dict', list, 'series', 'split', 'records', 'index') will be used in a future version. Use one of the above to silence this warning.\n",
            "  outcome[c] = res.groupby([c,'pred'])['pred'].count().reset_index(name='counts').to_dict('record')\n"
          ]
        },
        {
          "output_type": "stream",
          "name": "stdout",
          "text": [
            "Test Set Report:\n",
            "\n",
            "\n",
            "\n",
            "//content//drive//MyDrive//Colab Notebooks//modelparsbert\n",
            "   christan  pred  counts\n",
            "0         0     0    4810\n",
            "1         0     1     187\n",
            "2         0     2       3\n",
            "3         1     0    4202\n",
            "4         1     1     735\n",
            "5         1     2      63\n",
            "\n",
            " =========== \n",
            "\n"
          ]
        },
        {
          "output_type": "stream",
          "name": "stderr",
          "text": [
            "<ipython-input-51-8aac8e64c904>:13: FutureWarning: Using short name for 'orient' is deprecated. Only the options: ('dict', list, 'series', 'split', 'records', 'index') will be used in a future version. Use one of the above to silence this warning.\n",
            "  outcome[c] = res.groupby([c,'pred'])['pred'].count().reset_index(name='counts').to_dict('record')\n"
          ]
        }
      ]
    },
    {
      "cell_type": "code",
      "source": [
        "for i in outcome:\n",
        "  count = 0\n",
        "  for j in outcome[i]: \n",
        "    count += j['counts']\n",
        "  print(count)"
      ],
      "metadata": {
        "colab": {
          "base_uri": "https://localhost:8080/",
          "height": 300
        },
        "id": "IvKCoAvsm6c3",
        "outputId": "1002b4a7-d5d4-4eb9-8c5d-97f6c983d9a4"
      },
      "execution_count": null,
      "outputs": [
        {
          "output_type": "display_data",
          "data": {
            "text/plain": [
              "<IPython.core.display.Javascript object>"
            ],
            "application/javascript": [
              "google.colab.output.setIframeHeight(0, true, {maxHeight: 300})"
            ]
          },
          "metadata": {}
        },
        {
          "output_type": "execute_result",
          "data": {
            "text/plain": [
              "{'arab': [{'arab': 0, 'pred': 0, 'counts': 4811},\n",
              "  {'arab': 0, 'pred': 1, 'counts': 187},\n",
              "  {'arab': 0, 'pred': 2, 'counts': 2},\n",
              "  {'arab': 1, 'pred': 0, 'counts': 3521},\n",
              "  {'arab': 1, 'pred': 1, 'counts': 594},\n",
              "  {'arab': 1, 'pred': 2, 'counts': 885}],\n",
              " 'kord': [{'kord': 0, 'pred': 0, 'counts': 4810},\n",
              "  {'kord': 0, 'pred': 1, 'counts': 187},\n",
              "  {'kord': 0, 'pred': 2, 'counts': 3},\n",
              "  {'kord': 1, 'pred': 0, 'counts': 4530},\n",
              "  {'kord': 1, 'pred': 1, 'counts': 400},\n",
              "  {'kord': 1, 'pred': 2, 'counts': 70}],\n",
              " 'lor': [{'lor': 0, 'pred': 0, 'counts': 4810},\n",
              "  {'lor': 0, 'pred': 1, 'counts': 187},\n",
              "  {'lor': 0, 'pred': 2, 'counts': 3},\n",
              "  {'lor': 1, 'pred': 0, 'counts': 4299},\n",
              "  {'lor': 1, 'pred': 1, 'counts': 622},\n",
              "  {'lor': 1, 'pred': 2, 'counts': 79}],\n",
              " 'tork': [{'tork': 0, 'pred': 0, 'counts': 4812},\n",
              "  {'tork': 0, 'pred': 1, 'counts': 185},\n",
              "  {'tork': 0, 'pred': 2, 'counts': 3},\n",
              "  {'tork': 1, 'pred': 0, 'counts': 4323},\n",
              "  {'tork': 1, 'pred': 1, 'counts': 544},\n",
              "  {'tork': 1, 'pred': 2, 'counts': 133}],\n",
              " 'balooch': [{'balooch': 0, 'pred': 0, 'counts': 4810},\n",
              "  {'balooch': 0, 'pred': 1, 'counts': 187},\n",
              "  {'balooch': 0, 'pred': 2, 'counts': 3},\n",
              "  {'balooch': 1, 'pred': 0, 'counts': 4341},\n",
              "  {'balooch': 1, 'pred': 1, 'counts': 602},\n",
              "  {'balooch': 1, 'pred': 2, 'counts': 57}],\n",
              " 'zoroastrian': [{'zoroastrian': 0, 'pred': 0, 'counts': 4810},\n",
              "  {'zoroastrian': 0, 'pred': 1, 'counts': 187},\n",
              "  {'zoroastrian': 0, 'pred': 2, 'counts': 3},\n",
              "  {'zoroastrian': 1, 'pred': 0, 'counts': 4269},\n",
              "  {'zoroastrian': 1, 'pred': 1, 'counts': 625},\n",
              "  {'zoroastrian': 1, 'pred': 2, 'counts': 106}],\n",
              " 'jewish': [{'jewish': 0, 'pred': 0, 'counts': 4810},\n",
              "  {'jewish': 0, 'pred': 1, 'counts': 187},\n",
              "  {'jewish': 0, 'pred': 2, 'counts': 3},\n",
              "  {'jewish': 1, 'pred': 0, 'counts': 3898},\n",
              "  {'jewish': 1, 'pred': 1, 'counts': 830},\n",
              "  {'jewish': 1, 'pred': 2, 'counts': 272}],\n",
              " 'islam': [{'islam': 0, 'pred': 0, 'counts': 4813},\n",
              "  {'islam': 0, 'pred': 1, 'counts': 185},\n",
              "  {'islam': 0, 'pred': 2, 'counts': 2},\n",
              "  {'islam': 1, 'pred': 0, 'counts': 4417},\n",
              "  {'islam': 1, 'pred': 1, 'counts': 393},\n",
              "  {'islam': 1, 'pred': 2, 'counts': 190}],\n",
              " 'christan': [{'christan': 0, 'pred': 0, 'counts': 4810},\n",
              "  {'christan': 0, 'pred': 1, 'counts': 187},\n",
              "  {'christan': 0, 'pred': 2, 'counts': 3},\n",
              "  {'christan': 1, 'pred': 0, 'counts': 4202},\n",
              "  {'christan': 1, 'pred': 1, 'counts': 735},\n",
              "  {'christan': 1, 'pred': 2, 'counts': 63}]}"
            ]
          },
          "metadata": {},
          "execution_count": 59
        }
      ]
    },
    {
      "cell_type": "code",
      "source": [
        "res = {'arab': [\n",
        "  {'arab': 0, 'pred': 1, 'counts': 145},\n",
        "  {'arab': 0, 'pred': 2, 'counts': 10},\n",
        "  {'arab': 1, 'pred': 1, 'counts': 585},\n",
        "  {'arab': 1, 'pred': 2, 'counts': 915}],\n",
        " 'kord': [{'kord': 0, 'pred': 1, 'counts': 145},\n",
        "  {'kord': 0, 'pred': 2, 'counts': 11},\n",
        "  {'kord': 1, 'pred': 1, 'counts': 326},\n",
        "  {'kord': 1, 'pred': 2, 'counts': 114}],\n",
        " 'lor': [ {'lor': 0, 'pred': 1, 'counts': 145},\n",
        "  {'lor': 0, 'pred': 2, 'counts': 11},\n",
        "  {'lor': 1, 'pred': 1, 'counts': 504},\n",
        "  {'lor': 1, 'pred': 2, 'counts': 101}],\n",
        " 'tork': [ {'tork': 0, 'pred': 1, 'counts': 144},\n",
        "  {'tork': 0, 'pred': 2, 'counts': 10},\n",
        "  {'tork': 1, 'pred': 1, 'counts': 418},\n",
        "  {'tork': 1, 'pred': 2, 'counts': 127}],\n",
        " 'balooch': [ {'balooch': 0, 'pred': 1, 'counts': 145},\n",
        "  {'balooch': 0, 'pred': 2, 'counts': 11},\n",
        "  {'balooch': 1, 'pred': 1, 'counts': 469},\n",
        "  {'balooch': 1, 'pred': 2, 'counts': 108}],\n",
        " 'zoroastrian': [{'zoroastrian': 0, 'pred': 1, 'counts': 145},\n",
        "  {'zoroastrian': 0, 'pred': 2, 'counts': 11},\n",
        "  {'zoroastrian': 1, 'pred': 1, 'counts': 332},\n",
        "  {'zoroastrian': 1, 'pred': 2, 'counts': 106}],\n",
        " 'jewish': [{'jewish': 0, 'pred': 1, 'counts': 145},\n",
        "  {'jewish': 0, 'pred': 2, 'counts': 11},\n",
        "  {'jewish': 1, 'pred': 1, 'counts': 709},\n",
        "  {'jewish': 1, 'pred': 2, 'counts': 252}],\n",
        " 'islam': [ {'islam': 0, 'pred': 1, 'counts': 144},\n",
        "  {'islam': 0, 'pred': 2, 'counts': 10},\n",
        "  {'islam': 1, 'pred': 1, 'counts': 303},\n",
        "  {'islam': 1, 'pred': 2, 'counts': 207}],\n",
        " 'christan': [  {'christan': 0, 'pred': 1, 'counts': 145},\n",
        "  {'christan': 0, 'pred': 2, 'counts': 11},\n",
        "  {'christan': 1, 'pred': 1, 'counts': 513},\n",
        "  {'christan': 1, 'pred': 2, 'counts': 81}]}"
      ],
      "metadata": {
        "id": "C2lXZIzUnx33"
      },
      "execution_count": null,
      "outputs": []
    },
    {
      "cell_type": "code",
      "source": [
        "import pandas as pd\n",
        "df = pd.DataFrame(columns=['sub', 'class', 'true', 'false'])\n",
        "for i in res:\n",
        "  _p0 = res[i][0]['counts'] / 5000\n",
        "  _p2 = res[i][2]['counts'] / 5000\n",
        "  df.at[len(df)] = [i, 1, _p2, _p0]\n",
        "\n",
        "  _p1 = res[i][1]['counts'] / 5000\n",
        "  _p3 = res[i][3]['counts'] / 5000\n",
        "  df.at[len(df)] = [i, 2, _p3, _p1]\n",
        "\n",
        "df['true/false'] = df['true'] / df['false']\n",
        "df#.to_dict('record')"
      ],
      "metadata": {
        "colab": {
          "base_uri": "https://localhost:8080/",
          "height": 614
        },
        "id": "VQ-n4RL_Hldv",
        "outputId": "b001db4b-e3c6-4c9d-8c29-ab593f77dc15"
      },
      "execution_count": null,
      "outputs": [
        {
          "output_type": "execute_result",
          "data": {
            "text/plain": [
              "            sub class    true   false true/false\n",
              "0          arab     1   0.117   0.029   4.034483\n",
              "1          arab     2   0.183   0.002       91.5\n",
              "2          kord     1  0.0652   0.029   2.248276\n",
              "3          kord     2  0.0228  0.0022  10.363636\n",
              "4           lor     1  0.1008   0.029   3.475862\n",
              "5           lor     2  0.0202  0.0022   9.181818\n",
              "6          tork     1  0.0836  0.0288   2.902778\n",
              "7          tork     2  0.0254   0.002       12.7\n",
              "8       balooch     1  0.0938   0.029   3.234483\n",
              "9       balooch     2  0.0216  0.0022   9.818182\n",
              "10  zoroastrian     1  0.0664   0.029   2.289655\n",
              "11  zoroastrian     2  0.0212  0.0022   9.636364\n",
              "12       jewish     1  0.1418   0.029   4.889655\n",
              "13       jewish     2  0.0504  0.0022  22.909091\n",
              "14        islam     1  0.0606  0.0288   2.104167\n",
              "15        islam     2  0.0414   0.002       20.7\n",
              "16     christan     1  0.1026   0.029   3.537931\n",
              "17     christan     2  0.0162  0.0022   7.363636"
            ],
            "text/html": [
              "\n",
              "  <div id=\"df-4a062d31-68b6-4efd-ae2a-d0d8c4f2cfcb\">\n",
              "    <div class=\"colab-df-container\">\n",
              "      <div>\n",
              "<style scoped>\n",
              "    .dataframe tbody tr th:only-of-type {\n",
              "        vertical-align: middle;\n",
              "    }\n",
              "\n",
              "    .dataframe tbody tr th {\n",
              "        vertical-align: top;\n",
              "    }\n",
              "\n",
              "    .dataframe thead th {\n",
              "        text-align: right;\n",
              "    }\n",
              "</style>\n",
              "<table border=\"1\" class=\"dataframe\">\n",
              "  <thead>\n",
              "    <tr style=\"text-align: right;\">\n",
              "      <th></th>\n",
              "      <th>sub</th>\n",
              "      <th>class</th>\n",
              "      <th>true</th>\n",
              "      <th>false</th>\n",
              "      <th>true/false</th>\n",
              "    </tr>\n",
              "  </thead>\n",
              "  <tbody>\n",
              "    <tr>\n",
              "      <th>0</th>\n",
              "      <td>arab</td>\n",
              "      <td>1</td>\n",
              "      <td>0.117</td>\n",
              "      <td>0.029</td>\n",
              "      <td>4.034483</td>\n",
              "    </tr>\n",
              "    <tr>\n",
              "      <th>1</th>\n",
              "      <td>arab</td>\n",
              "      <td>2</td>\n",
              "      <td>0.183</td>\n",
              "      <td>0.002</td>\n",
              "      <td>91.5</td>\n",
              "    </tr>\n",
              "    <tr>\n",
              "      <th>2</th>\n",
              "      <td>kord</td>\n",
              "      <td>1</td>\n",
              "      <td>0.0652</td>\n",
              "      <td>0.029</td>\n",
              "      <td>2.248276</td>\n",
              "    </tr>\n",
              "    <tr>\n",
              "      <th>3</th>\n",
              "      <td>kord</td>\n",
              "      <td>2</td>\n",
              "      <td>0.0228</td>\n",
              "      <td>0.0022</td>\n",
              "      <td>10.363636</td>\n",
              "    </tr>\n",
              "    <tr>\n",
              "      <th>4</th>\n",
              "      <td>lor</td>\n",
              "      <td>1</td>\n",
              "      <td>0.1008</td>\n",
              "      <td>0.029</td>\n",
              "      <td>3.475862</td>\n",
              "    </tr>\n",
              "    <tr>\n",
              "      <th>5</th>\n",
              "      <td>lor</td>\n",
              "      <td>2</td>\n",
              "      <td>0.0202</td>\n",
              "      <td>0.0022</td>\n",
              "      <td>9.181818</td>\n",
              "    </tr>\n",
              "    <tr>\n",
              "      <th>6</th>\n",
              "      <td>tork</td>\n",
              "      <td>1</td>\n",
              "      <td>0.0836</td>\n",
              "      <td>0.0288</td>\n",
              "      <td>2.902778</td>\n",
              "    </tr>\n",
              "    <tr>\n",
              "      <th>7</th>\n",
              "      <td>tork</td>\n",
              "      <td>2</td>\n",
              "      <td>0.0254</td>\n",
              "      <td>0.002</td>\n",
              "      <td>12.7</td>\n",
              "    </tr>\n",
              "    <tr>\n",
              "      <th>8</th>\n",
              "      <td>balooch</td>\n",
              "      <td>1</td>\n",
              "      <td>0.0938</td>\n",
              "      <td>0.029</td>\n",
              "      <td>3.234483</td>\n",
              "    </tr>\n",
              "    <tr>\n",
              "      <th>9</th>\n",
              "      <td>balooch</td>\n",
              "      <td>2</td>\n",
              "      <td>0.0216</td>\n",
              "      <td>0.0022</td>\n",
              "      <td>9.818182</td>\n",
              "    </tr>\n",
              "    <tr>\n",
              "      <th>10</th>\n",
              "      <td>zoroastrian</td>\n",
              "      <td>1</td>\n",
              "      <td>0.0664</td>\n",
              "      <td>0.029</td>\n",
              "      <td>2.289655</td>\n",
              "    </tr>\n",
              "    <tr>\n",
              "      <th>11</th>\n",
              "      <td>zoroastrian</td>\n",
              "      <td>2</td>\n",
              "      <td>0.0212</td>\n",
              "      <td>0.0022</td>\n",
              "      <td>9.636364</td>\n",
              "    </tr>\n",
              "    <tr>\n",
              "      <th>12</th>\n",
              "      <td>jewish</td>\n",
              "      <td>1</td>\n",
              "      <td>0.1418</td>\n",
              "      <td>0.029</td>\n",
              "      <td>4.889655</td>\n",
              "    </tr>\n",
              "    <tr>\n",
              "      <th>13</th>\n",
              "      <td>jewish</td>\n",
              "      <td>2</td>\n",
              "      <td>0.0504</td>\n",
              "      <td>0.0022</td>\n",
              "      <td>22.909091</td>\n",
              "    </tr>\n",
              "    <tr>\n",
              "      <th>14</th>\n",
              "      <td>islam</td>\n",
              "      <td>1</td>\n",
              "      <td>0.0606</td>\n",
              "      <td>0.0288</td>\n",
              "      <td>2.104167</td>\n",
              "    </tr>\n",
              "    <tr>\n",
              "      <th>15</th>\n",
              "      <td>islam</td>\n",
              "      <td>2</td>\n",
              "      <td>0.0414</td>\n",
              "      <td>0.002</td>\n",
              "      <td>20.7</td>\n",
              "    </tr>\n",
              "    <tr>\n",
              "      <th>16</th>\n",
              "      <td>christan</td>\n",
              "      <td>1</td>\n",
              "      <td>0.1026</td>\n",
              "      <td>0.029</td>\n",
              "      <td>3.537931</td>\n",
              "    </tr>\n",
              "    <tr>\n",
              "      <th>17</th>\n",
              "      <td>christan</td>\n",
              "      <td>2</td>\n",
              "      <td>0.0162</td>\n",
              "      <td>0.0022</td>\n",
              "      <td>7.363636</td>\n",
              "    </tr>\n",
              "  </tbody>\n",
              "</table>\n",
              "</div>\n",
              "      <button class=\"colab-df-convert\" onclick=\"convertToInteractive('df-4a062d31-68b6-4efd-ae2a-d0d8c4f2cfcb')\"\n",
              "              title=\"Convert this dataframe to an interactive table.\"\n",
              "              style=\"display:none;\">\n",
              "        \n",
              "  <svg xmlns=\"http://www.w3.org/2000/svg\" height=\"24px\"viewBox=\"0 0 24 24\"\n",
              "       width=\"24px\">\n",
              "    <path d=\"M0 0h24v24H0V0z\" fill=\"none\"/>\n",
              "    <path d=\"M18.56 5.44l.94 2.06.94-2.06 2.06-.94-2.06-.94-.94-2.06-.94 2.06-2.06.94zm-11 1L8.5 8.5l.94-2.06 2.06-.94-2.06-.94L8.5 2.5l-.94 2.06-2.06.94zm10 10l.94 2.06.94-2.06 2.06-.94-2.06-.94-.94-2.06-.94 2.06-2.06.94z\"/><path d=\"M17.41 7.96l-1.37-1.37c-.4-.4-.92-.59-1.43-.59-.52 0-1.04.2-1.43.59L10.3 9.45l-7.72 7.72c-.78.78-.78 2.05 0 2.83L4 21.41c.39.39.9.59 1.41.59.51 0 1.02-.2 1.41-.59l7.78-7.78 2.81-2.81c.8-.78.8-2.07 0-2.86zM5.41 20L4 18.59l7.72-7.72 1.47 1.35L5.41 20z\"/>\n",
              "  </svg>\n",
              "      </button>\n",
              "      \n",
              "  <style>\n",
              "    .colab-df-container {\n",
              "      display:flex;\n",
              "      flex-wrap:wrap;\n",
              "      gap: 12px;\n",
              "    }\n",
              "\n",
              "    .colab-df-convert {\n",
              "      background-color: #E8F0FE;\n",
              "      border: none;\n",
              "      border-radius: 50%;\n",
              "      cursor: pointer;\n",
              "      display: none;\n",
              "      fill: #1967D2;\n",
              "      height: 32px;\n",
              "      padding: 0 0 0 0;\n",
              "      width: 32px;\n",
              "    }\n",
              "\n",
              "    .colab-df-convert:hover {\n",
              "      background-color: #E2EBFA;\n",
              "      box-shadow: 0px 1px 2px rgba(60, 64, 67, 0.3), 0px 1px 3px 1px rgba(60, 64, 67, 0.15);\n",
              "      fill: #174EA6;\n",
              "    }\n",
              "\n",
              "    [theme=dark] .colab-df-convert {\n",
              "      background-color: #3B4455;\n",
              "      fill: #D2E3FC;\n",
              "    }\n",
              "\n",
              "    [theme=dark] .colab-df-convert:hover {\n",
              "      background-color: #434B5C;\n",
              "      box-shadow: 0px 1px 3px 1px rgba(0, 0, 0, 0.15);\n",
              "      filter: drop-shadow(0px 1px 2px rgba(0, 0, 0, 0.3));\n",
              "      fill: #FFFFFF;\n",
              "    }\n",
              "  </style>\n",
              "\n",
              "      <script>\n",
              "        const buttonEl =\n",
              "          document.querySelector('#df-4a062d31-68b6-4efd-ae2a-d0d8c4f2cfcb button.colab-df-convert');\n",
              "        buttonEl.style.display =\n",
              "          google.colab.kernel.accessAllowed ? 'block' : 'none';\n",
              "\n",
              "        async function convertToInteractive(key) {\n",
              "          const element = document.querySelector('#df-4a062d31-68b6-4efd-ae2a-d0d8c4f2cfcb');\n",
              "          const dataTable =\n",
              "            await google.colab.kernel.invokeFunction('convertToInteractive',\n",
              "                                                     [key], {});\n",
              "          if (!dataTable) return;\n",
              "\n",
              "          const docLinkHtml = 'Like what you see? Visit the ' +\n",
              "            '<a target=\"_blank\" href=https://colab.research.google.com/notebooks/data_table.ipynb>data table notebook</a>'\n",
              "            + ' to learn more about interactive tables.';\n",
              "          element.innerHTML = '';\n",
              "          dataTable['output_type'] = 'display_data';\n",
              "          await google.colab.output.renderOutput(dataTable, element);\n",
              "          const docLink = document.createElement('div');\n",
              "          docLink.innerHTML = docLinkHtml;\n",
              "          element.appendChild(docLink);\n",
              "        }\n",
              "      </script>\n",
              "    </div>\n",
              "  </div>\n",
              "  "
            ]
          },
          "metadata": {},
          "execution_count": 5
        }
      ]
    },
    {
      "cell_type": "code",
      "source": [],
      "metadata": {
        "id": "hInQiAMKwxRg"
      },
      "execution_count": null,
      "outputs": []
    }
  ],
  "metadata": {
    "colab": {
      "collapsed_sections": [
        "1sC7vclyLA2F",
        "DyuCu2y9lmBM",
        "WSkf89TtlqtS",
        "88efVtq2ZzI0",
        "cbBzku8mZ2qc",
        "lIgExFvvZ6Tx"
      ],
      "machine_shape": "hm",
      "provenance": [],
      "toc_visible": true
    },
    "gpuClass": "standard",
    "kernelspec": {
      "display_name": "Python 3",
      "name": "python3"
    }
  },
  "nbformat": 4,
  "nbformat_minor": 0
}